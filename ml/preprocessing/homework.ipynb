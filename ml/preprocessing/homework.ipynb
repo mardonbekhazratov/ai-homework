{
 "cells": [
  {
   "cell_type": "markdown",
   "id": "9d6e361d",
   "metadata": {},
   "source": [
    "### **Homework Assignment: Data Preprocessing for Machine Learning**\n",
    "\n",
    "#### **Dataset**\n",
    "\n",
    "Use the **California Housing Dataset** from Aurélien Géron's GitHub repo:"
   ]
  },
  {
   "cell_type": "code",
   "execution_count": null,
   "id": "758de9b3",
   "metadata": {},
   "outputs": [],
   "source": [
    "import os\n",
    "import tarfile\n",
    "import urllib.request\n",
    "import pandas as pd\n",
    "\n",
    "DOWNLOAD_ROOT = \"https://github.com/ageron/data/raw/main/\"\n",
    "HOUSING_PATH = os.path.join(\"datasets\", \"housing\")\n",
    "HOUSING_URL = DOWNLOAD_ROOT + \"housing.tgz\"\n",
    "\n",
    "def fetch_housing_data(housing_url=HOUSING_URL, housing_path=HOUSING_PATH):\n",
    "    os.makedirs(housing_path, exist_ok=True)\n",
    "    tgz_path = os.path.join(housing_path, \"housing.tgz\")\n",
    "    urllib.request.urlretrieve(housing_url, tgz_path)\n",
    "    with tarfile.open(tgz_path) as housing_tgz:\n",
    "        housing_tgz.extractall(path=housing_path)\n",
    "\n",
    "fetch_housing_data()\n",
    "df = pd.read_csv(os.path.join(HOUSING_PATH, \"housing.csv\"))"
   ]
  },
  {
   "cell_type": "markdown",
   "id": "027777e1",
   "metadata": {},
   "source": [
    "## **Part 1: Exploratory Data Analysis (EDA)**\n",
    "\n",
    "1. Display:\n",
    "\n",
    "   * The first 10 rows.\n",
    "   * Dataset info using `.info()`.\n",
    "   * Summary statistics using `.describe()`.\n",
    "   * Value counts for categorical columns (e.g., `ocean_proximity`).\n",
    "\n",
    "2. Identify:\n",
    "\n",
    "   * Columns with missing values.\n",
    "   * Numerical vs categorical features.\n",
    "   * Columns with unusual distributions or outliers.\n",
    "\n",
    "---\n",
    "\n",
    "## **Part 2: Handling Missing Values**\n",
    "\n",
    "3. For missing data:\n",
    "\n",
    "   * Drop any row or column if missing values are insignificant.\n",
    "   * Use **median** imputation for `total_bedrooms`.\n",
    "\n",
    "4. Create a `missing_report(df)` function that:\n",
    "\n",
    "   * Returns a DataFrame: column name, count and percentage of missing values.\n",
    "\n",
    "---\n",
    "\n",
    "## **Part 3: Encoding Categorical Variables**\n",
    "\n",
    "5. Encode the `ocean_proximity` column:\n",
    "\n",
    "   * Use **One-Hot Encoding** via `pd.get_dummies()` or `OneHotEncoder`.\n",
    "\n",
    "---\n",
    "\n",
    "## **Part 4: Feature Scaling**\n",
    "\n",
    "6. For numerical features:\n",
    "\n",
    "   * Apply both **StandardScaler** and **MinMaxScaler** to features like:\n",
    "\n",
    "     * `median_income`, `housing_median_age`, `population`, `median_house_value`\n",
    "   * Plot feature histograms before and after scaling.\n",
    "\n",
    "---\n",
    "\n",
    "## **Part 5: Optional Feature Engineering**\n",
    "\n",
    "7. Create meaningful new features:\n",
    "\n",
    "   * `rooms_per_household = total_rooms / households`\n",
    "   * `bedrooms_per_room = total_bedrooms / total_rooms`\n",
    "   * `population_per_household = population / households`"
   ]
  },
  {
   "cell_type": "markdown",
   "id": "9a70298d",
   "metadata": {},
   "source": []
  }
 ],
 "metadata": {
  "language_info": {
   "name": "python"
  }
 },
 "nbformat": 4,
 "nbformat_minor": 5
}
