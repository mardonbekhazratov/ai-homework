{
 "cells": [
  {
   "cell_type": "code",
   "execution_count": 9,
   "id": "cd9568b9",
   "metadata": {},
   "outputs": [],
   "source": [
    "import matplotlib.image as mpimg\n",
    "import numpy as np\n",
    "import matplotlib.pyplot as plt"
   ]
  },
  {
   "cell_type": "code",
   "execution_count": 43,
   "id": "20c9162e",
   "metadata": {},
   "outputs": [
    {
     "data": {
      "text/plain": [
       "(423, 808)"
      ]
     },
     "execution_count": 43,
     "metadata": {},
     "output_type": "execute_result"
    }
   ],
   "source": [
    "img = mpimg.imread(\"image.jpg\")\n",
    "\n",
    "if img.ndim == 3:  # Check if it's RGB or RGBA\n",
    "    # Drop alpha channel if present\n",
    "    if img.shape[2] == 4:\n",
    "        img = img[:, :, :3]\n",
    "\n",
    "    gray = np.dot(img[..., :3], [0.2989, 0.5870, 0.1140])  # standard weights\n",
    "else:\n",
    "    gray = img  # already grayscale\n",
    "gray.shape"
   ]
  },
  {
   "cell_type": "code",
   "execution_count": 44,
   "id": "8e836488",
   "metadata": {},
   "outputs": [],
   "source": [
    "from skimage.transform import resize"
   ]
  },
  {
   "cell_type": "code",
   "execution_count": 47,
   "id": "3396be7a",
   "metadata": {},
   "outputs": [
    {
     "data": {
      "text/plain": [
       "(28, 28)"
      ]
     },
     "execution_count": 47,
     "metadata": {},
     "output_type": "execute_result"
    }
   ],
   "source": [
    "img_resized = resize(gray, (28, 28), anti_aliasing=True)\n",
    "img_resized.shape"
   ]
  },
  {
   "cell_type": "code",
   "execution_count": null,
   "id": "fb5f1283",
   "metadata": {},
   "outputs": [
    {
     "data": {
      "text/plain": [
       "(28, 28)"
      ]
     },
     "execution_count": 40,
     "metadata": {},
     "output_type": "execute_result"
    }
   ],
   "source": [
    "gray = gray[gray.shape[0] // 28 - 1::gray.shape[0] // 28, gray.shape[1] // 28 - 1::gray.shape[1] // 28]\n",
    "gray.shape"
   ]
  },
  {
   "cell_type": "code",
   "execution_count": 48,
   "id": "895a6279",
   "metadata": {},
   "outputs": [
    {
     "data": {
      "image/png": "[encoded data removed]",
      "text/plain": [
       "<Figure size 640x480 with 1 Axes>"
      ]
     },
     "metadata": {},
     "output_type": "display_data"
    }
   ],
   "source": [
    "plt.imshow(img_resized, cmap='gray')\n",
    "plt.axis('off')\n",
    "plt.show()"
   ]
  },
  {
   "cell_type": "code",
   "execution_count": null,
   "id": "2be4f275",
   "metadata": {},
   "outputs": [],
   "source": []
  }
 ],
 "metadata": {
  "kernelspec": {
   "display_name": "Python 3",
   "language": "python",
   "name": "python3"
  },
  "language_info": {
   "codemirror_mode": {
    "name": "ipython",
    "version": 3
   },
   "file_extension": ".py",
   "mimetype": "text/x-python",
   "name": "python",
   "nbconvert_exporter": "python",
   "pygments_lexer": "ipython3",
   "version": "3.13.3"
  }
 },
 "nbformat": 4,
 "nbformat_minor": 5
}
