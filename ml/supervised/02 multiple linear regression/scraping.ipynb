{
 "cells": [
  {
   "cell_type": "code",
   "execution_count": 7,
   "id": "c164d320",
   "metadata": {},
   "outputs": [],
   "source": [
    "from bs4 import BeautifulSoup\n",
    "import requests\n",
    "import pandas as pd\n",
    "import csv"
   ]
  },
  {
   "cell_type": "code",
   "execution_count": 2,
   "id": "abb287b4",
   "metadata": {},
   "outputs": [],
   "source": [
    "url = \"https://www.olx.uz/oz/nedvizhimost/kvartiry/prodazha/?currency=UYE\""
   ]
  },
  {
   "cell_type": "code",
   "execution_count": 3,
   "id": "253757de",
   "metadata": {},
   "outputs": [],
   "source": [
    "def get_content(url):\n",
    "    return requests.get(url).content"
   ]
  },
  {
   "cell_type": "code",
   "execution_count": 4,
   "id": "c026a819",
   "metadata": {},
   "outputs": [],
   "source": [
    "soup = BeautifulSoup(get_content(url))"
   ]
  },
  {
   "cell_type": "code",
   "execution_count": 5,
   "id": "eb62a842",
   "metadata": {},
   "outputs": [],
   "source": [
    "list_pages = soup.select(\"li[data-testid=pagination-list-item]\")\n",
    "number_of_pages = int(list_pages[-1].select_one('a').text)"
   ]
  },
  {
   "cell_type": "code",
   "execution_count": null,
   "id": "6e3d1056",
   "metadata": {},
   "outputs": [],
   "source": [
    "def get_data(content):\n",
    "    soup = BeautifulSoup(content)\n",
    "    ads = soup.find_all(\"div\", class_=\"css-1sw7q4x\")\n",
    "    data = []\n",
    "    for ad in ads:\n",
    "        ...\n",
    "    \n",
    "    return data"
   ]
  },
  {
   "cell_type": "code",
   "execution_count": null,
   "id": "d7421c6e",
   "metadata": {},
   "outputs": [
    {
     "ename": "TypeError",
     "evalue": "'int' object is not iterable",
     "output_type": "error",
     "traceback": [
      "\u001b[31m---------------------------------------------------------------------------\u001b[39m",
      "\u001b[31mTypeError\u001b[39m                                 Traceback (most recent call last)",
      "\u001b[36mCell\u001b[39m\u001b[36m \u001b[39m\u001b[32mIn[6]\u001b[39m\u001b[32m, line 1\u001b[39m\n\u001b[32m----> \u001b[39m\u001b[32m1\u001b[39m \u001b[38;5;28;43;01mfor\u001b[39;49;00m\u001b[43m \u001b[49m\u001b[43mpage\u001b[49m\u001b[43m \u001b[49m\u001b[38;5;129;43;01min\u001b[39;49;00m\u001b[43m \u001b[49m\u001b[43mnumber_of_pages\u001b[49m\u001b[43m:\u001b[49m\n\u001b[32m      2\u001b[39m \u001b[43m    \u001b[49m\u001b[43mget_content\u001b[49m\u001b[43m(\u001b[49m\u001b[43m)\u001b[49m\n",
      "\u001b[31mTypeError\u001b[39m: 'int' object is not iterable"
     ]
    }
   ],
   "source": [
    "data = []\n",
    "columns = []\n",
    "for page in range(1, number_of_pages + 1):\n",
    "    p = get_data(get_content(url + f\"&page={page}\"))\n",
    "    for i in p:\n",
    "        data.append(i)"
   ]
  },
  {
   "cell_type": "code",
   "execution_count": null,
   "id": "48c011c2",
   "metadata": {},
   "outputs": [],
   "source": [
    "with open(\"data.csv\", \"w\") as file:\n",
    "    writer = csv.writer(file)\n",
    "    writer.writerow(columns)\n",
    "    writer.writerows(data)"
   ]
  }
 ],
 "metadata": {
  "kernelspec": {
   "display_name": "Python 3",
   "language": "python",
   "name": "python3"
  },
  "language_info": {
   "codemirror_mode": {
    "name": "ipython",
    "version": 3
   },
   "file_extension": ".py",
   "mimetype": "text/x-python",
   "name": "python",
   "nbconvert_exporter": "python",
   "pygments_lexer": "ipython3",
   "version": "3.13.2"
  }
 },
 "nbformat": 4,
 "nbformat_minor": 5
}
