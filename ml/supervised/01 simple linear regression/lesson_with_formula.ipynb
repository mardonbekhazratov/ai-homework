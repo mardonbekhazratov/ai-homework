{
 "cells": [
  {
   "cell_type": "markdown",
   "id": "63c977a0",
   "metadata": {},
   "source": [
    "## Simple Linear Regression"
   ]
  },
  {
   "cell_type": "markdown",
   "id": "acc50787",
   "metadata": {},
   "source": [
    "1. $X$ - feature.\n",
    "2. $Y$ - label (output)\n",
    "3. $\\beta_0$, $\\beta_1$ - model parameters\n",
    "4. $\\varepsilon$ - error term\n",
    "5. $\\hat{Y}$ - model prediction"
   ]
  },
  {
   "cell_type": "markdown",
   "id": "93ebb06e",
   "metadata": {},
   "source": [
    "$$\n",
    "Y = \\beta_0 + \\beta_1 X + \\varepsilon\n",
    "$$"
   ]
  },
  {
   "cell_type": "markdown",
   "id": "cf01c554",
   "metadata": {},
   "source": [
    "$$\n",
    "\\hat{Y} = \\beta_0 + \\beta_1 X\n",
    "$$"
   ]
  },
  {
   "cell_type": "code",
   "execution_count": 1,
   "id": "d18660d7",
   "metadata": {},
   "outputs": [],
   "source": [
    "import pandas as pd\n",
    "import numpy as np\n",
    "import matplotlib.pyplot as plt"
   ]
  },
  {
   "cell_type": "code",
   "execution_count": 3,
   "id": "4b98ea90",
   "metadata": {},
   "outputs": [],
   "source": [
    "df = pd.read_csv(r\"data\\student_scores.csv\")"
   ]
  },
  {
   "cell_type": "code",
   "execution_count": 5,
   "id": "84f450a0",
   "metadata": {},
   "outputs": [
    {
     "data": {
      "text/html": [
       "<div>\n",
       "<style scoped>\n",
       "    .dataframe tbody tr th:only-of-type {\n",
       "        vertical-align: middle;\n",
       "    }\n",
       "\n",
       "    .dataframe tbody tr th {\n",
       "        vertical-align: top;\n",
       "    }\n",
       "\n",
       "    .dataframe thead th {\n",
       "        text-align: right;\n",
       "    }\n",
       "</style>\n",
       "<table border=\"1\" class=\"dataframe\">\n",
       "  <thead>\n",
       "    <tr style=\"text-align: right;\">\n",
       "      <th></th>\n",
       "      <th>Hours</th>\n",
       "      <th>Scores</th>\n",
       "    </tr>\n",
       "  </thead>\n",
       "  <tbody>\n",
       "    <tr>\n",
       "      <th>0</th>\n",
       "      <td>2.5</td>\n",
       "      <td>21</td>\n",
       "    </tr>\n",
       "    <tr>\n",
       "      <th>1</th>\n",
       "      <td>5.1</td>\n",
       "      <td>47</td>\n",
       "    </tr>\n",
       "    <tr>\n",
       "      <th>2</th>\n",
       "      <td>3.2</td>\n",
       "      <td>27</td>\n",
       "    </tr>\n",
       "    <tr>\n",
       "      <th>3</th>\n",
       "      <td>8.5</td>\n",
       "      <td>75</td>\n",
       "    </tr>\n",
       "    <tr>\n",
       "      <th>4</th>\n",
       "      <td>3.5</td>\n",
       "      <td>30</td>\n",
       "    </tr>\n",
       "  </tbody>\n",
       "</table>\n",
       "</div>"
      ],
      "text/plain": [
       "   Hours  Scores\n",
       "0    2.5      21\n",
       "1    5.1      47\n",
       "2    3.2      27\n",
       "3    8.5      75\n",
       "4    3.5      30"
      ]
     },
     "execution_count": 5,
     "metadata": {},
     "output_type": "execute_result"
    }
   ],
   "source": [
    "df.head()"
   ]
  },
  {
   "cell_type": "markdown",
   "id": "cd9f0799",
   "metadata": {},
   "source": [
    "$$\n",
    "\\text{Scores} = \\beta_0 + \\beta_1 \\text{Hours}\n",
    "$$"
   ]
  },
  {
   "cell_type": "code",
   "execution_count": 17,
   "id": "2d7399ef",
   "metadata": {},
   "outputs": [
    {
     "data": {
      "image/png": "[encoded data removed]",
      "text/plain": [
       "<Figure size 640x480 with 1 Axes>"
      ]
     },
     "metadata": {},
     "output_type": "display_data"
    }
   ],
   "source": [
    "def model(Hours):\n",
    "    return 9.5*Hours + 5\n",
    "\n",
    "y_pred = model(df['Hours'])\n",
    "\n",
    "plt.scatter(df['Hours'], df['Scores'])\n",
    "plt.plot(df['Hours'], y_pred)\n",
    "plt.scatter(df['Hours'], y_pred)\n",
    "plt.xlabel(\"Hours\")\n",
    "plt.ylabel(\"Scores\")\n",
    "plt.show()"
   ]
  },
  {
   "cell_type": "code",
   "execution_count": null,
   "id": "151d9d85",
   "metadata": {},
   "outputs": [],
   "source": [
    "x = df['Hours'].values\n",
    "y = df['Scores'].values\n",
    "y_pred = y_pred.values"
   ]
  },
  {
   "cell_type": "markdown",
   "id": "268db377",
   "metadata": {},
   "source": [
    "$$\n",
    "\\varepsilon = y - \\hat{y}\n",
    "$$"
   ]
  },
  {
   "cell_type": "code",
   "execution_count": 20,
   "id": "5be483b3",
   "metadata": {},
   "outputs": [
    {
     "data": {
      "text/plain": [
       "array([ -7.75,  -6.45,  -8.4 , -10.75,  -8.25,   0.75,  -4.4 ,   2.75,\n",
       "        -2.85,  -5.65,   6.85,   0.95,  -6.75,   5.65,   1.55,   5.45,\n",
       "         1.25,   0.95,   4.05,  -6.3 ,  -0.65,   3.4 ,  -6.1 ,   5.45,\n",
       "         6.9 ])"
      ]
     },
     "execution_count": 20,
     "metadata": {},
     "output_type": "execute_result"
    }
   ],
   "source": [
    "y - y_pred"
   ]
  },
  {
   "cell_type": "markdown",
   "id": "1085c914",
   "metadata": {},
   "source": [
    "$$\n",
    "\\varepsilon^2 = (y - \\hat{y})^2\n",
    "$$"
   ]
  },
  {
   "cell_type": "code",
   "execution_count": 25,
   "id": "04fdfee6",
   "metadata": {},
   "outputs": [
    {
     "data": {
      "text/plain": [
       "np.float64(1.106965220772541)"
      ]
     },
     "execution_count": 25,
     "metadata": {},
     "output_type": "execute_result"
    }
   ],
   "source": [
    "np.sqrt(np.sum((y - y_pred)**2)) / len(y)"
   ]
  },
  {
   "cell_type": "markdown",
   "id": "1758efe0",
   "metadata": {},
   "source": [
    "## Mean Squared Error\n",
    "\n",
    "$$\n",
    "\\text{MSE}(\\beta_0, \\beta_1) = \\sum_{i=1}^{N} \\varepsilon^2 \n",
    "$$\n",
    "\n",
    "$$\n",
    "\\text{MSE}(\\beta_0, \\beta_1) = \\sum_{i=1}^{N} (y - \\hat{y})^2 \n",
    "$$\n",
    "\n",
    "$$\n",
    "\\text{MSE}(\\beta_0, \\beta_1) = \\sum_{i=1}^{N} (y - (\\beta_0 + \\beta_1 x))^2 \n",
    "$$\n",
    "\n"
   ]
  },
  {
   "cell_type": "markdown",
   "id": "02b5c1cf",
   "metadata": {},
   "source": [
    "$$\n",
    "z(x, y) = x^2 + 3y\n",
    "$$"
   ]
  },
  {
   "cell_type": "markdown",
   "id": "3d935e2f",
   "metadata": {},
   "source": [
    "$$\n",
    "\\frac{\\partial \\text{MSE}(\\beta_0, \\beta_1)}{\\partial \\beta_0} = -2*\\sum_{i=1}^{N} (y - (\\beta_0 + \\beta_1 x))\n",
    "$$\n",
    "\n",
    "$$\n",
    "\\frac{\\partial \\text{MSE}(\\beta_0, \\beta_1)}{\\partial \\beta_1} = -2*\\sum_{i=1}^{N} (y - (\\beta_0 + \\beta_1 x))x\n",
    "$$"
   ]
  },
  {
   "cell_type": "markdown",
   "id": "5c8b422d",
   "metadata": {},
   "source": [
    "$$\n",
    "\\sum_{i=1}^{N} y - \\sum_{i=1}^{N} \\beta_0 - \\sum_{i=1}^{N} \\beta_1 x = 0 \\\\\n",
    "\\sum_{i=1}^{N} yx - \\sum_{i=1}^{N} \\beta_0*x - \\sum_{i=1}^{N} \\beta_1 x^2 = 0\n",
    "$$"
   ]
  },
  {
   "cell_type": "markdown",
   "id": "8c99a6f0",
   "metadata": {},
   "source": [
    "$$\n",
    "\\beta_0 + \\beta_1 \\cdot \\bar{x} = \\bar{y} \\\\\n",
    "\\beta_0 \\cdot \\bar{x} + \\beta_1 \\cdot \\bar{x^2} = \\bar{yx}\n",
    "$$"
   ]
  },
  {
   "cell_type": "markdown",
   "id": "d740ef31",
   "metadata": {},
   "source": [
    "$$\n",
    "\\beta_1 = \\frac{\\bar{xy} - \\bar{y}\\cdot \\bar{x}}{\\bar{x^2} - \\bar{x}^2}\n",
    "$$\n",
    "\n",
    "$$\n",
    "\\beta_0 = \\bar{y} - \\beta_1 \\cdot \\bar{x}\n",
    "$$"
   ]
  },
  {
   "cell_type": "code",
   "execution_count": 28,
   "id": "d8eb781c",
   "metadata": {},
   "outputs": [
    {
     "data": {
      "text/plain": [
       "np.float64(5.012)"
      ]
     },
     "execution_count": 28,
     "metadata": {},
     "output_type": "execute_result"
    }
   ],
   "source": [
    "np.mean(x)"
   ]
  },
  {
   "cell_type": "code",
   "execution_count": 29,
   "id": "9812fcb0",
   "metadata": {},
   "outputs": [
    {
     "data": {
      "text/plain": [
       "np.float64(51.48)"
      ]
     },
     "execution_count": 29,
     "metadata": {},
     "output_type": "execute_result"
    }
   ],
   "source": [
    "np.mean(y)"
   ]
  },
  {
   "cell_type": "code",
   "execution_count": 31,
   "id": "94ee8fe4",
   "metadata": {},
   "outputs": [
    {
     "data": {
      "text/plain": [
       "np.float64(31.241200000000003)"
      ]
     },
     "execution_count": 31,
     "metadata": {},
     "output_type": "execute_result"
    }
   ],
   "source": [
    "np.mean(x**2)"
   ]
  },
  {
   "cell_type": "code",
   "execution_count": 33,
   "id": "a3264a70",
   "metadata": {},
   "outputs": [
    {
     "data": {
      "text/plain": [
       "np.float64(317.856)"
      ]
     },
     "execution_count": 33,
     "metadata": {},
     "output_type": "execute_result"
    }
   ],
   "source": [
    "np.mean(x*y)"
   ]
  },
  {
   "cell_type": "code",
   "execution_count": 35,
   "id": "20edf9fb",
   "metadata": {},
   "outputs": [
    {
     "name": "stdout",
     "output_type": "stream",
     "text": [
      "beta0=np.float64(2.48367340537321)\n",
      "beta1=np.float64(9.775803390787468)\n"
     ]
    }
   ],
   "source": [
    "beta1 = (np.mean(x) * np.mean(y) - np.mean(x*y)) / (np.mean(x)**2 - np.mean(x**2))\n",
    "beta0 = np.mean(y) - beta1 * np.mean(x)\n",
    "\n",
    "print(f\"{beta0=}\")\n",
    "print(f\"{beta1=}\")"
   ]
  },
  {
   "cell_type": "code",
   "execution_count": 36,
   "id": "6b544f95",
   "metadata": {},
   "outputs": [],
   "source": [
    "y_pred = beta0 + beta1 * x"
   ]
  },
  {
   "cell_type": "code",
   "execution_count": 37,
   "id": "c42a598e",
   "metadata": {},
   "outputs": [
    {
     "data": {
      "image/png": "[encoded data removed]",
      "text/plain": [
       "<Figure size 640x480 with 1 Axes>"
      ]
     },
     "metadata": {},
     "output_type": "display_data"
    }
   ],
   "source": [
    "plt.scatter(x, y)\n",
    "plt.plot(x, y_pred)\n",
    "plt.scatter(x, y_pred)\n",
    "plt.xlabel(\"Hours\")\n",
    "plt.ylabel(\"Scores\")\n",
    "plt.show()"
   ]
  },
  {
   "cell_type": "markdown",
   "id": "2a709026",
   "metadata": {},
   "source": [
    "1. Variation / Standard Deviation\n",
    "2. Covariation\n",
    "3. Correlation"
   ]
  },
  {
   "cell_type": "markdown",
   "id": "b9e05c9f",
   "metadata": {},
   "source": [
    "Variation\n",
    "\n",
    "$$\n",
    "\\sigma_x^2 = \\frac{1}{N}\\sum_{i=1}^N (x_i - \\bar{x})^2\n",
    "$$\n",
    "\n",
    "---\n",
    "\n",
    "Standard Deviation\n",
    "\n",
    "$$\n",
    "\\sigma_x = \\sqrt{\\frac{1}{N}\\sum_{i=1}^N (x_i - \\bar{x})^2}\n",
    "$$\n",
    "\n",
    "---\n",
    "\n",
    "$$\n",
    "\\text{Cov}_{xy} = \\frac{1}{N}\\sum_{i=1}^N (x_i - \\bar{x})(y_i - \\bar{y})\n",
    "$$\n",
    "\n",
    "---\n",
    "\n",
    "$$\n",
    "\\text{Corr}_{xy} = \\frac{\\text{Cov}_{xy}}{\\sigma_x \\sigma_y}\n",
    "$$"
   ]
  },
  {
   "cell_type": "markdown",
   "id": "b4598138",
   "metadata": {},
   "source": [
    "$$\n",
    "-1 <= \\text{corr} <= 1\n",
    "$$"
   ]
  },
  {
   "cell_type": "code",
   "execution_count": 40,
   "id": "fb1b7d0d",
   "metadata": {},
   "outputs": [
    {
     "data": {
      "text/plain": [
       "array([-2.512,  0.088, -1.812,  3.488, -1.512, -3.512,  4.188,  0.488,\n",
       "        3.288, -2.312,  2.688,  0.888, -0.512, -1.712, -3.912,  3.888,\n",
       "       -2.512, -3.112,  1.088,  2.388, -2.312, -0.212, -1.212,  1.888,\n",
       "        2.788])"
      ]
     },
     "execution_count": 40,
     "metadata": {},
     "output_type": "execute_result"
    }
   ],
   "source": [
    "x - np.mean(x)"
   ]
  },
  {
   "cell_type": "code",
   "execution_count": 41,
   "id": "397d450f",
   "metadata": {},
   "outputs": [
    {
     "data": {
      "text/plain": [
       "array([-30.48,  -4.48, -24.48,  23.52, -21.48, -31.48,  36.52,   8.52,\n",
       "        29.52, -26.48,  33.52,  10.52, -10.48,  -9.48, -34.48,  43.52,\n",
       "       -21.48, -27.48,  15.52,  17.52, -21.48,   2.52, -16.48,  24.52,\n",
       "        34.52])"
      ]
     },
     "execution_count": 41,
     "metadata": {},
     "output_type": "execute_result"
    }
   ],
   "source": [
    "y - np.mean(y)"
   ]
  },
  {
   "cell_type": "code",
   "execution_count": 43,
   "id": "bac229a7",
   "metadata": {},
   "outputs": [
    {
     "data": {
      "text/plain": [
       "np.float64(1495.9560000000001)"
      ]
     },
     "execution_count": 43,
     "metadata": {},
     "output_type": "execute_result"
    }
   ],
   "source": [
    "np.sum((x - np.mean(x)) * (y - np.mean(y)))"
   ]
  },
  {
   "cell_type": "markdown",
   "id": "63d3207b",
   "metadata": {},
   "source": [
    "$$\n",
    "\\sigma_x^2 = \\frac{1}{N}\\sum_{i=1}^N (x_i - \\bar{x})^2 = \\frac{1}{N}\\sum_{i=1}^N x_i^2 - \\frac{2\\bar{x}}{N}\\sum_{i=1}^N x_i + \\frac{1}{N}\\sum_{i=1}^N \\bar{x}^2\n",
    "$$"
   ]
  },
  {
   "cell_type": "markdown",
   "id": "696127ef",
   "metadata": {},
   "source": [
    "$$\n",
    "\\sigma_x^2 = \\bar{x^2} - 2\\bar{x}^2 + \\bar{x}^2 = \\bar{x^2} - \\bar{x}^2\n",
    "$$\n",
    "\n",
    "$$\n",
    "\\sigma_x^2 = \\bar{x^2} - \\bar{x}^2\n",
    "$$"
   ]
  },
  {
   "cell_type": "markdown",
   "id": "3c51d986",
   "metadata": {},
   "source": [
    "$$\n",
    "\\text{Cov}_{xy} = \\frac{1}{N}\\sum_{i=1}^N (x_i - \\bar{x})(y_i - \\bar{y})\n",
    "$$"
   ]
  },
  {
   "cell_type": "markdown",
   "id": "7d233628",
   "metadata": {},
   "source": [
    "$$\n",
    "\\text{Cov}_{xy} = \\frac{1}{N}\\sum_{i=1}^N (x_i - \\bar{x})(y_i - \\bar{y}) = \\frac{1}{N}\\sum_{i=1}^N x_iy_i - \\frac{1}{N}\\sum_{i=1}^N x_i \\bar{y} - \\frac{1}{N}\\sum_{i=1}^N \\bar{x} y_i + \\frac{1}{N}\\sum_{i=1}^N \\bar{x} \\bar{y} = \\\\\n",
    "\\bar{xy} - \\bar{y} \\bar{x} - \\bar{x} \\bar{y} + \\bar{x} \\bar{y} = \\bar{xy} - \\bar{y} \\bar{x}\n",
    "$$\n",
    "\n",
    "$$\n",
    "\\text{Cov}_{xy} = \\bar{xy} - \\bar{y} \\bar{x}\n",
    "$$"
   ]
  },
  {
   "cell_type": "markdown",
   "id": "e63e56c4",
   "metadata": {},
   "source": [
    "---"
   ]
  },
  {
   "cell_type": "markdown",
   "id": "85a430a8",
   "metadata": {},
   "source": [
    "$$\n",
    "\\beta_1 = \\frac{\\text{Cov}_{xy}}{\\sigma_x^2}\n",
    "$$\n",
    "\n",
    "$$\n",
    "\\beta_0 = \\bar{y} - \\beta_1 \\cdot \\bar{x}\n",
    "$$"
   ]
  },
  {
   "cell_type": "markdown",
   "id": "66b48b1f",
   "metadata": {},
   "source": [
    "---"
   ]
  },
  {
   "cell_type": "code",
   "execution_count": 44,
   "id": "29cc87cf",
   "metadata": {},
   "outputs": [],
   "source": [
    "import statistics"
   ]
  },
  {
   "cell_type": "code",
   "execution_count": 45,
   "id": "85cb6d9d",
   "metadata": {},
   "outputs": [
    {
     "data": {
      "text/plain": [
       "np.float64(6.3761)"
      ]
     },
     "execution_count": 45,
     "metadata": {},
     "output_type": "execute_result"
    }
   ],
   "source": [
    "statistics.variance(x)"
   ]
  },
  {
   "cell_type": "code",
   "execution_count": 46,
   "id": "a8ce5846",
   "metadata": {},
   "outputs": [
    {
     "data": {
      "text/plain": [
       "np.float64(62.33150000000001)"
      ]
     },
     "execution_count": 46,
     "metadata": {},
     "output_type": "execute_result"
    }
   ],
   "source": [
    "statistics.covariance(x, y)"
   ]
  },
  {
   "cell_type": "code",
   "execution_count": 47,
   "id": "4a9e64bb",
   "metadata": {},
   "outputs": [
    {
     "data": {
      "text/plain": [
       "np.float64(0.9761906560220888)"
      ]
     },
     "execution_count": 47,
     "metadata": {},
     "output_type": "execute_result"
    }
   ],
   "source": [
    "statistics.correlation(x, y)"
   ]
  },
  {
   "cell_type": "code",
   "execution_count": 48,
   "id": "a76e99e2",
   "metadata": {},
   "outputs": [
    {
     "data": {
      "text/plain": [
       "np.float64(9.775803390787473)"
      ]
     },
     "execution_count": 48,
     "metadata": {},
     "output_type": "execute_result"
    }
   ],
   "source": [
    "beta_1 = statistics.covariance(x, y) / statistics.variance(x)\n",
    "beta_1"
   ]
  },
  {
   "cell_type": "markdown",
   "id": "8ee0e488",
   "metadata": {},
   "source": [
    "### Linear Regression with Scikit Learn"
   ]
  },
  {
   "cell_type": "code",
   "execution_count": 51,
   "id": "d7895349",
   "metadata": {},
   "outputs": [],
   "source": [
    "from sklearn.linear_model import LinearRegression"
   ]
  },
  {
   "cell_type": "code",
   "execution_count": 56,
   "id": "69bbf616",
   "metadata": {},
   "outputs": [
    {
     "data": {
      "text/html": [
       "<style>#sk-container-id-2 {\n",
       "  /* Definition of color scheme common for light and dark mode */\n",
       "  --sklearn-color-text: #000;\n",
       "  --sklearn-color-text-muted: #666;\n",
       "  --sklearn-color-line: gray;\n",
       "  /* Definition of color scheme for unfitted estimators */\n",
       "  --sklearn-color-unfitted-level-0: #fff5e6;\n",
       "  --sklearn-color-unfitted-level-1: #f6e4d2;\n",
       "  --sklearn-color-unfitted-level-2: #ffe0b3;\n",
       "  --sklearn-color-unfitted-level-3: chocolate;\n",
       "  /* Definition of color scheme for fitted estimators */\n",
       "  --sklearn-color-fitted-level-0: #f0f8ff;\n",
       "  --sklearn-color-fitted-level-1: #d4ebff;\n",
       "  --sklearn-color-fitted-level-2: #b3dbfd;\n",
       "  --sklearn-color-fitted-level-3: cornflowerblue;\n",
       "\n",
       "  /* Specific color for light theme */\n",
       "  --sklearn-color-text-on-default-background: var(--sg-text-color, var(--theme-code-foreground, var(--jp-content-font-color1, black)));\n",
       "  --sklearn-color-background: var(--sg-background-color, var(--theme-background, var(--jp-layout-color0, white)));\n",
       "  --sklearn-color-border-box: var(--sg-text-color, var(--theme-code-foreground, var(--jp-content-font-color1, black)));\n",
       "  --sklearn-color-icon: #696969;\n",
       "\n",
       "  @media (prefers-color-scheme: dark) {\n",
       "    /* Redefinition of color scheme for dark theme */\n",
       "    --sklearn-color-text-on-default-background: var(--sg-text-color, var(--theme-code-foreground, var(--jp-content-font-color1, white)));\n",
       "    --sklearn-color-background: var(--sg-background-color, var(--theme-background, var(--jp-layout-color0, #111)));\n",
       "    --sklearn-color-border-box: var(--sg-text-color, var(--theme-code-foreground, var(--jp-content-font-color1, white)));\n",
       "    --sklearn-color-icon: #878787;\n",
       "  }\n",
       "}\n",
       "\n",
       "#sk-container-id-2 {\n",
       "  color: var(--sklearn-color-text);\n",
       "}\n",
       "\n",
       "#sk-container-id-2 pre {\n",
       "  padding: 0;\n",
       "}\n",
       "\n",
       "#sk-container-id-2 input.sk-hidden--visually {\n",
       "  border: 0;\n",
       "  clip: rect(1px 1px 1px 1px);\n",
       "  clip: rect(1px, 1px, 1px, 1px);\n",
       "  height: 1px;\n",
       "  margin: -1px;\n",
       "  overflow: hidden;\n",
       "  padding: 0;\n",
       "  position: absolute;\n",
       "  width: 1px;\n",
       "}\n",
       "\n",
       "#sk-container-id-2 div.sk-dashed-wrapped {\n",
       "  border: 1px dashed var(--sklearn-color-line);\n",
       "  margin: 0 0.4em 0.5em 0.4em;\n",
       "  box-sizing: border-box;\n",
       "  padding-bottom: 0.4em;\n",
       "  background-color: var(--sklearn-color-background);\n",
       "}\n",
       "\n",
       "#sk-container-id-2 div.sk-container {\n",
       "  /* jupyter's `normalize.less` sets `[hidden] { display: none; }`\n",
       "     but bootstrap.min.css set `[hidden] { display: none !important; }`\n",
       "     so we also need the `!important` here to be able to override the\n",
       "     default hidden behavior on the sphinx rendered scikit-learn.org.\n",
       "     See: https://github.com/scikit-learn/scikit-learn/issues/21755 */\n",
       "  display: inline-block !important;\n",
       "  position: relative;\n",
       "}\n",
       "\n",
       "#sk-container-id-2 div.sk-text-repr-fallback {\n",
       "  display: none;\n",
       "}\n",
       "\n",
       "div.sk-parallel-item,\n",
       "div.sk-serial,\n",
       "div.sk-item {\n",
       "  /* draw centered vertical line to link estimators */\n",
       "  background-image: linear-gradient(var(--sklearn-color-text-on-default-background), var(--sklearn-color-text-on-default-background));\n",
       "  background-size: 2px 100%;\n",
       "  background-repeat: no-repeat;\n",
       "  background-position: center center;\n",
       "}\n",
       "\n",
       "/* Parallel-specific style estimator block */\n",
       "\n",
       "#sk-container-id-2 div.sk-parallel-item::after {\n",
       "  content: \"\";\n",
       "  width: 100%;\n",
       "  border-bottom: 2px solid var(--sklearn-color-text-on-default-background);\n",
       "  flex-grow: 1;\n",
       "}\n",
       "\n",
       "#sk-container-id-2 div.sk-parallel {\n",
       "  display: flex;\n",
       "  align-items: stretch;\n",
       "  justify-content: center;\n",
       "  background-color: var(--sklearn-color-background);\n",
       "  position: relative;\n",
       "}\n",
       "\n",
       "#sk-container-id-2 div.sk-parallel-item {\n",
       "  display: flex;\n",
       "  flex-direction: column;\n",
       "}\n",
       "\n",
       "#sk-container-id-2 div.sk-parallel-item:first-child::after {\n",
       "  align-self: flex-end;\n",
       "  width: 50%;\n",
       "}\n",
       "\n",
       "#sk-container-id-2 div.sk-parallel-item:last-child::after {\n",
       "  align-self: flex-start;\n",
       "  width: 50%;\n",
       "}\n",
       "\n",
       "#sk-container-id-2 div.sk-parallel-item:only-child::after {\n",
       "  width: 0;\n",
       "}\n",
       "\n",
       "/* Serial-specific style estimator block */\n",
       "\n",
       "#sk-container-id-2 div.sk-serial {\n",
       "  display: flex;\n",
       "  flex-direction: column;\n",
       "  align-items: center;\n",
       "  background-color: var(--sklearn-color-background);\n",
       "  padding-right: 1em;\n",
       "  padding-left: 1em;\n",
       "}\n",
       "\n",
       "\n",
       "/* Toggleable style: style used for estimator/Pipeline/ColumnTransformer box that is\n",
       "clickable and can be expanded/collapsed.\n",
       "- Pipeline and ColumnTransformer use this feature and define the default style\n",
       "- Estimators will overwrite some part of the style using the `sk-estimator` class\n",
       "*/\n",
       "\n",
       "/* Pipeline and ColumnTransformer style (default) */\n",
       "\n",
       "#sk-container-id-2 div.sk-toggleable {\n",
       "  /* Default theme specific background. It is overwritten whether we have a\n",
       "  specific estimator or a Pipeline/ColumnTransformer */\n",
       "  background-color: var(--sklearn-color-background);\n",
       "}\n",
       "\n",
       "/* Toggleable label */\n",
       "#sk-container-id-2 label.sk-toggleable__label {\n",
       "  cursor: pointer;\n",
       "  display: flex;\n",
       "  width: 100%;\n",
       "  margin-bottom: 0;\n",
       "  padding: 0.5em;\n",
       "  box-sizing: border-box;\n",
       "  text-align: center;\n",
       "  align-items: start;\n",
       "  justify-content: space-between;\n",
       "  gap: 0.5em;\n",
       "}\n",
       "\n",
       "#sk-container-id-2 label.sk-toggleable__label .caption {\n",
       "  font-size: 0.6rem;\n",
       "  font-weight: lighter;\n",
       "  color: var(--sklearn-color-text-muted);\n",
       "}\n",
       "\n",
       "#sk-container-id-2 label.sk-toggleable__label-arrow:before {\n",
       "  /* Arrow on the left of the label */\n",
       "  content: \"▸\";\n",
       "  float: left;\n",
       "  margin-right: 0.25em;\n",
       "  color: var(--sklearn-color-icon);\n",
       "}\n",
       "\n",
       "#sk-container-id-2 label.sk-toggleable__label-arrow:hover:before {\n",
       "  color: var(--sklearn-color-text);\n",
       "}\n",
       "\n",
       "/* Toggleable content - dropdown */\n",
       "\n",
       "#sk-container-id-2 div.sk-toggleable__content {\n",
       "  max-height: 0;\n",
       "  max-width: 0;\n",
       "  overflow: hidden;\n",
       "  text-align: left;\n",
       "  /* unfitted */\n",
       "  background-color: var(--sklearn-color-unfitted-level-0);\n",
       "}\n",
       "\n",
       "#sk-container-id-2 div.sk-toggleable__content.fitted {\n",
       "  /* fitted */\n",
       "  background-color: var(--sklearn-color-fitted-level-0);\n",
       "}\n",
       "\n",
       "#sk-container-id-2 div.sk-toggleable__content pre {\n",
       "  margin: 0.2em;\n",
       "  border-radius: 0.25em;\n",
       "  color: var(--sklearn-color-text);\n",
       "  /* unfitted */\n",
       "  background-color: var(--sklearn-color-unfitted-level-0);\n",
       "}\n",
       "\n",
       "#sk-container-id-2 div.sk-toggleable__content.fitted pre {\n",
       "  /* unfitted */\n",
       "  background-color: var(--sklearn-color-fitted-level-0);\n",
       "}\n",
       "\n",
       "#sk-container-id-2 input.sk-toggleable__control:checked~div.sk-toggleable__content {\n",
       "  /* Expand drop-down */\n",
       "  max-height: 200px;\n",
       "  max-width: 100%;\n",
       "  overflow: auto;\n",
       "}\n",
       "\n",
       "#sk-container-id-2 input.sk-toggleable__control:checked~label.sk-toggleable__label-arrow:before {\n",
       "  content: \"▾\";\n",
       "}\n",
       "\n",
       "/* Pipeline/ColumnTransformer-specific style */\n",
       "\n",
       "#sk-container-id-2 div.sk-label input.sk-toggleable__control:checked~label.sk-toggleable__label {\n",
       "  color: var(--sklearn-color-text);\n",
       "  background-color: var(--sklearn-color-unfitted-level-2);\n",
       "}\n",
       "\n",
       "#sk-container-id-2 div.sk-label.fitted input.sk-toggleable__control:checked~label.sk-toggleable__label {\n",
       "  background-color: var(--sklearn-color-fitted-level-2);\n",
       "}\n",
       "\n",
       "/* Estimator-specific style */\n",
       "\n",
       "/* Colorize estimator box */\n",
       "#sk-container-id-2 div.sk-estimator input.sk-toggleable__control:checked~label.sk-toggleable__label {\n",
       "  /* unfitted */\n",
       "  background-color: var(--sklearn-color-unfitted-level-2);\n",
       "}\n",
       "\n",
       "#sk-container-id-2 div.sk-estimator.fitted input.sk-toggleable__control:checked~label.sk-toggleable__label {\n",
       "  /* fitted */\n",
       "  background-color: var(--sklearn-color-fitted-level-2);\n",
       "}\n",
       "\n",
       "#sk-container-id-2 div.sk-label label.sk-toggleable__label,\n",
       "#sk-container-id-2 div.sk-label label {\n",
       "  /* The background is the default theme color */\n",
       "  color: var(--sklearn-color-text-on-default-background);\n",
       "}\n",
       "\n",
       "/* On hover, darken the color of the background */\n",
       "#sk-container-id-2 div.sk-label:hover label.sk-toggleable__label {\n",
       "  color: var(--sklearn-color-text);\n",
       "  background-color: var(--sklearn-color-unfitted-level-2);\n",
       "}\n",
       "\n",
       "/* Label box, darken color on hover, fitted */\n",
       "#sk-container-id-2 div.sk-label.fitted:hover label.sk-toggleable__label.fitted {\n",
       "  color: var(--sklearn-color-text);\n",
       "  background-color: var(--sklearn-color-fitted-level-2);\n",
       "}\n",
       "\n",
       "/* Estimator label */\n",
       "\n",
       "#sk-container-id-2 div.sk-label label {\n",
       "  font-family: monospace;\n",
       "  font-weight: bold;\n",
       "  display: inline-block;\n",
       "  line-height: 1.2em;\n",
       "}\n",
       "\n",
       "#sk-container-id-2 div.sk-label-container {\n",
       "  text-align: center;\n",
       "}\n",
       "\n",
       "/* Estimator-specific */\n",
       "#sk-container-id-2 div.sk-estimator {\n",
       "  font-family: monospace;\n",
       "  border: 1px dotted var(--sklearn-color-border-box);\n",
       "  border-radius: 0.25em;\n",
       "  box-sizing: border-box;\n",
       "  margin-bottom: 0.5em;\n",
       "  /* unfitted */\n",
       "  background-color: var(--sklearn-color-unfitted-level-0);\n",
       "}\n",
       "\n",
       "#sk-container-id-2 div.sk-estimator.fitted {\n",
       "  /* fitted */\n",
       "  background-color: var(--sklearn-color-fitted-level-0);\n",
       "}\n",
       "\n",
       "/* on hover */\n",
       "#sk-container-id-2 div.sk-estimator:hover {\n",
       "  /* unfitted */\n",
       "  background-color: var(--sklearn-color-unfitted-level-2);\n",
       "}\n",
       "\n",
       "#sk-container-id-2 div.sk-estimator.fitted:hover {\n",
       "  /* fitted */\n",
       "  background-color: var(--sklearn-color-fitted-level-2);\n",
       "}\n",
       "\n",
       "/* Specification for estimator info (e.g. \"i\" and \"?\") */\n",
       "\n",
       "/* Common style for \"i\" and \"?\" */\n",
       "\n",
       ".sk-estimator-doc-link,\n",
       "a:link.sk-estimator-doc-link,\n",
       "a:visited.sk-estimator-doc-link {\n",
       "  float: right;\n",
       "  font-size: smaller;\n",
       "  line-height: 1em;\n",
       "  font-family: monospace;\n",
       "  background-color: var(--sklearn-color-background);\n",
       "  border-radius: 1em;\n",
       "  height: 1em;\n",
       "  width: 1em;\n",
       "  text-decoration: none !important;\n",
       "  margin-left: 0.5em;\n",
       "  text-align: center;\n",
       "  /* unfitted */\n",
       "  border: var(--sklearn-color-unfitted-level-1) 1pt solid;\n",
       "  color: var(--sklearn-color-unfitted-level-1);\n",
       "}\n",
       "\n",
       ".sk-estimator-doc-link.fitted,\n",
       "a:link.sk-estimator-doc-link.fitted,\n",
       "a:visited.sk-estimator-doc-link.fitted {\n",
       "  /* fitted */\n",
       "  border: var(--sklearn-color-fitted-level-1) 1pt solid;\n",
       "  color: var(--sklearn-color-fitted-level-1);\n",
       "}\n",
       "\n",
       "/* On hover */\n",
       "div.sk-estimator:hover .sk-estimator-doc-link:hover,\n",
       ".sk-estimator-doc-link:hover,\n",
       "div.sk-label-container:hover .sk-estimator-doc-link:hover,\n",
       ".sk-estimator-doc-link:hover {\n",
       "  /* unfitted */\n",
       "  background-color: var(--sklearn-color-unfitted-level-3);\n",
       "  color: var(--sklearn-color-background);\n",
       "  text-decoration: none;\n",
       "}\n",
       "\n",
       "div.sk-estimator.fitted:hover .sk-estimator-doc-link.fitted:hover,\n",
       ".sk-estimator-doc-link.fitted:hover,\n",
       "div.sk-label-container:hover .sk-estimator-doc-link.fitted:hover,\n",
       ".sk-estimator-doc-link.fitted:hover {\n",
       "  /* fitted */\n",
       "  background-color: var(--sklearn-color-fitted-level-3);\n",
       "  color: var(--sklearn-color-background);\n",
       "  text-decoration: none;\n",
       "}\n",
       "\n",
       "/* Span, style for the box shown on hovering the info icon */\n",
       ".sk-estimator-doc-link span {\n",
       "  display: none;\n",
       "  z-index: 9999;\n",
       "  position: relative;\n",
       "  font-weight: normal;\n",
       "  right: .2ex;\n",
       "  padding: .5ex;\n",
       "  margin: .5ex;\n",
       "  width: min-content;\n",
       "  min-width: 20ex;\n",
       "  max-width: 50ex;\n",
       "  color: var(--sklearn-color-text);\n",
       "  box-shadow: 2pt 2pt 4pt #999;\n",
       "  /* unfitted */\n",
       "  background: var(--sklearn-color-unfitted-level-0);\n",
       "  border: .5pt solid var(--sklearn-color-unfitted-level-3);\n",
       "}\n",
       "\n",
       ".sk-estimator-doc-link.fitted span {\n",
       "  /* fitted */\n",
       "  background: var(--sklearn-color-fitted-level-0);\n",
       "  border: var(--sklearn-color-fitted-level-3);\n",
       "}\n",
       "\n",
       ".sk-estimator-doc-link:hover span {\n",
       "  display: block;\n",
       "}\n",
       "\n",
       "/* \"?\"-specific style due to the `<a>` HTML tag */\n",
       "\n",
       "#sk-container-id-2 a.estimator_doc_link {\n",
       "  float: right;\n",
       "  font-size: 1rem;\n",
       "  line-height: 1em;\n",
       "  font-family: monospace;\n",
       "  background-color: var(--sklearn-color-background);\n",
       "  border-radius: 1rem;\n",
       "  height: 1rem;\n",
       "  width: 1rem;\n",
       "  text-decoration: none;\n",
       "  /* unfitted */\n",
       "  color: var(--sklearn-color-unfitted-level-1);\n",
       "  border: var(--sklearn-color-unfitted-level-1) 1pt solid;\n",
       "}\n",
       "\n",
       "#sk-container-id-2 a.estimator_doc_link.fitted {\n",
       "  /* fitted */\n",
       "  border: var(--sklearn-color-fitted-level-1) 1pt solid;\n",
       "  color: var(--sklearn-color-fitted-level-1);\n",
       "}\n",
       "\n",
       "/* On hover */\n",
       "#sk-container-id-2 a.estimator_doc_link:hover {\n",
       "  /* unfitted */\n",
       "  background-color: var(--sklearn-color-unfitted-level-3);\n",
       "  color: var(--sklearn-color-background);\n",
       "  text-decoration: none;\n",
       "}\n",
       "\n",
       "#sk-container-id-2 a.estimator_doc_link.fitted:hover {\n",
       "  /* fitted */\n",
       "  background-color: var(--sklearn-color-fitted-level-3);\n",
       "}\n",
       "</style><div id=\"sk-container-id-2\" class=\"sk-top-container\"><div class=\"sk-text-repr-fallback\"><pre>LinearRegression()</pre><b>In a Jupyter environment, please rerun this cell to show the HTML representation or trust the notebook. <br />On GitHub, the HTML representation is unable to render, please try loading this page with nbviewer.org.</b></div><div class=\"sk-container\" hidden><div class=\"sk-item\"><div class=\"sk-estimator fitted sk-toggleable\"><input class=\"sk-toggleable__control sk-hidden--visually\" id=\"sk-estimator-id-2\" type=\"checkbox\" checked><label for=\"sk-estimator-id-2\" class=\"sk-toggleable__label fitted sk-toggleable__label-arrow\"><div><div>LinearRegression</div></div><div><a class=\"sk-estimator-doc-link fitted\" rel=\"noreferrer\" target=\"_blank\" href=\"https://scikit-learn.org/1.6/modules/generated/sklearn.linear_model.LinearRegression.html\">?<span>Documentation for LinearRegression</span></a><span class=\"sk-estimator-doc-link fitted\">i<span>Fitted</span></span></div></label><div class=\"sk-toggleable__content fitted\"><pre>LinearRegression()</pre></div> </div></div></div></div>"
      ],
      "text/plain": [
       "LinearRegression()"
      ]
     },
     "execution_count": 56,
     "metadata": {},
     "output_type": "execute_result"
    }
   ],
   "source": [
    "lin_reg = LinearRegression()\n",
    "lin_reg.fit(x.reshape(-1, 1), y)"
   ]
  },
  {
   "cell_type": "code",
   "execution_count": 57,
   "id": "8992e2a6",
   "metadata": {},
   "outputs": [
    {
     "data": {
      "text/plain": [
       "np.float64(2.48367340537321)"
      ]
     },
     "execution_count": 57,
     "metadata": {},
     "output_type": "execute_result"
    }
   ],
   "source": [
    "lin_reg.intercept_"
   ]
  },
  {
   "cell_type": "code",
   "execution_count": 58,
   "id": "ea0d0e07",
   "metadata": {},
   "outputs": [
    {
     "data": {
      "text/plain": [
       "array([9.77580339])"
      ]
     },
     "execution_count": 58,
     "metadata": {},
     "output_type": "execute_result"
    }
   ],
   "source": [
    "lin_reg.coef_"
   ]
  },
  {
   "cell_type": "code",
   "execution_count": 59,
   "id": "ba2eb13a",
   "metadata": {},
   "outputs": [
    {
     "data": {
      "text/plain": [
       "array([26.92318188, 52.3402707 , 33.76624426, 85.57800223, 36.69898527,\n",
       "       17.14737849, 92.4210646 , 56.25059205, 83.62284155, 28.87834256,\n",
       "       77.75735951, 60.16091341, 46.47478866, 34.74382459, 13.23705714,\n",
       "       89.48832358, 26.92318188, 21.05769985, 62.11607409, 74.8246185 ,\n",
       "       28.87834256, 49.40752968, 39.63172629, 69.9367168 , 78.73493985])"
      ]
     },
     "execution_count": 59,
     "metadata": {},
     "output_type": "execute_result"
    }
   ],
   "source": [
    "lin_reg.predict(x.reshape(-1, 1))"
   ]
  },
  {
   "cell_type": "code",
   "execution_count": 60,
   "id": "5f777578",
   "metadata": {},
   "outputs": [
    {
     "data": {
      "text/plain": [
       "array([26.92318188, 52.3402707 , 33.76624426, 85.57800223, 36.69898527,\n",
       "       17.14737849, 92.4210646 , 56.25059205, 83.62284155, 28.87834256,\n",
       "       77.75735951, 60.16091341, 46.47478866, 34.74382459, 13.23705714,\n",
       "       89.48832358, 26.92318188, 21.05769985, 62.11607409, 74.8246185 ,\n",
       "       28.87834256, 49.40752968, 39.63172629, 69.9367168 , 78.73493985])"
      ]
     },
     "execution_count": 60,
     "metadata": {},
     "output_type": "execute_result"
    }
   ],
   "source": [
    "x.reshape(-1, 1) @ lin_reg.coef_ + lin_reg.intercept_"
   ]
  },
  {
   "cell_type": "code",
   "execution_count": 61,
   "id": "2ef59efa",
   "metadata": {},
   "outputs": [
    {
     "data": {
      "text/plain": [
       "0.9529481969048356"
      ]
     },
     "execution_count": 61,
     "metadata": {},
     "output_type": "execute_result"
    }
   ],
   "source": [
    "lin_reg.score(x.reshape(-1, 1), y)"
   ]
  },
  {
   "cell_type": "code",
   "execution_count": null,
   "id": "31584e4e",
   "metadata": {},
   "outputs": [],
   "source": []
  }
 ],
 "metadata": {
  "kernelspec": {
   "display_name": "Python 3",
   "language": "python",
   "name": "python3"
  },
  "language_info": {
   "codemirror_mode": {
    "name": "ipython",
    "version": 3
   },
   "file_extension": ".py",
   "mimetype": "text/x-python",
   "name": "python",
   "nbconvert_exporter": "python",
   "pygments_lexer": "ipython3",
   "version": "3.12.10"
  }
 },
 "nbformat": 4,
 "nbformat_minor": 5
}
